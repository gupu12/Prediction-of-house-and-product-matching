{
  "nbformat": 4,
  "nbformat_minor": 0,
  "metadata": {
    "colab": {
      "provenance": []
    },
    "kernelspec": {
      "name": "python3",
      "display_name": "Python 3"
    },
    "language_info": {
      "name": "python"
    }
  },
  "cells": [
    {
      "cell_type": "markdown",
      "source": [
        "DATA PREPROCESSING"
      ],
      "metadata": {
        "id": "h6lkcEKhxoXO"
      }
    },
    {
      "cell_type": "code",
      "source": [
        "import pandas as pd\n",
        "import numpy as np\n",
        "import matplotlib.pyplot as plt\n",
        "%matplotlib inline\n",
        "import seaborn as sns\n",
        "import warnings\n",
        "warnings.filterwarnings('ignore')\n",
        "pd.set_option('display.max_columns', None)\n",
        "pd.set_option('display.max_rows', None)\n",
        "dataset = pd.read_csv(\"/DS - Assignment Part 1 data set.csv\")\n",
        "print(dataset.shape)\n",
        "dataset.head()\n"
      ],
      "metadata": {
        "id": "yuNj_8pXxw5B",
        "colab": {
          "base_uri": "https://localhost:8080/",
          "height": 302
        },
        "outputId": "bbc939e1-3216-47c3-ea77-74204433f896"
      },
      "execution_count": null,
      "outputs": [
        {
          "output_type": "stream",
          "name": "stdout",
          "text": [
            "(414, 9)\n"
          ]
        },
        {
          "output_type": "execute_result",
          "data": {
            "text/plain": [
              "   Transaction date  House Age  Distance from nearest Metro station (km)  \\\n",
              "0       2012.916667       32.0                                  84.87882   \n",
              "1       2012.916667       19.5                                 306.59470   \n",
              "2       2013.583333       13.3                                 561.98450   \n",
              "3       2013.500000       13.3                                 561.98450   \n",
              "4       2012.833333        5.0                                 390.56840   \n",
              "\n",
              "   Number of convenience stores  latitude  longitude  Number of bedrooms  \\\n",
              "0                            10  24.98298  121.54024                   1   \n",
              "1                             9  24.98034  121.53951                   2   \n",
              "2                             5  24.98746  121.54391                   3   \n",
              "3                             5  24.98746  121.54391                   2   \n",
              "4                             5  24.97937  121.54245                   1   \n",
              "\n",
              "   House size (sqft)  House price of unit area  \n",
              "0                575                      37.9  \n",
              "1               1240                      42.2  \n",
              "2               1060                      47.3  \n",
              "3                875                      54.8  \n",
              "4                491                      43.1  "
            ],
            "text/html": [
              "\n",
              "  <div id=\"df-b4f1867f-e09c-4927-80e3-0e3d5eb96f7b\">\n",
              "    <div class=\"colab-df-container\">\n",
              "      <div>\n",
              "<style scoped>\n",
              "    .dataframe tbody tr th:only-of-type {\n",
              "        vertical-align: middle;\n",
              "    }\n",
              "\n",
              "    .dataframe tbody tr th {\n",
              "        vertical-align: top;\n",
              "    }\n",
              "\n",
              "    .dataframe thead th {\n",
              "        text-align: right;\n",
              "    }\n",
              "</style>\n",
              "<table border=\"1\" class=\"dataframe\">\n",
              "  <thead>\n",
              "    <tr style=\"text-align: right;\">\n",
              "      <th></th>\n",
              "      <th>Transaction date</th>\n",
              "      <th>House Age</th>\n",
              "      <th>Distance from nearest Metro station (km)</th>\n",
              "      <th>Number of convenience stores</th>\n",
              "      <th>latitude</th>\n",
              "      <th>longitude</th>\n",
              "      <th>Number of bedrooms</th>\n",
              "      <th>House size (sqft)</th>\n",
              "      <th>House price of unit area</th>\n",
              "    </tr>\n",
              "  </thead>\n",
              "  <tbody>\n",
              "    <tr>\n",
              "      <th>0</th>\n",
              "      <td>2012.916667</td>\n",
              "      <td>32.0</td>\n",
              "      <td>84.87882</td>\n",
              "      <td>10</td>\n",
              "      <td>24.98298</td>\n",
              "      <td>121.54024</td>\n",
              "      <td>1</td>\n",
              "      <td>575</td>\n",
              "      <td>37.9</td>\n",
              "    </tr>\n",
              "    <tr>\n",
              "      <th>1</th>\n",
              "      <td>2012.916667</td>\n",
              "      <td>19.5</td>\n",
              "      <td>306.59470</td>\n",
              "      <td>9</td>\n",
              "      <td>24.98034</td>\n",
              "      <td>121.53951</td>\n",
              "      <td>2</td>\n",
              "      <td>1240</td>\n",
              "      <td>42.2</td>\n",
              "    </tr>\n",
              "    <tr>\n",
              "      <th>2</th>\n",
              "      <td>2013.583333</td>\n",
              "      <td>13.3</td>\n",
              "      <td>561.98450</td>\n",
              "      <td>5</td>\n",
              "      <td>24.98746</td>\n",
              "      <td>121.54391</td>\n",
              "      <td>3</td>\n",
              "      <td>1060</td>\n",
              "      <td>47.3</td>\n",
              "    </tr>\n",
              "    <tr>\n",
              "      <th>3</th>\n",
              "      <td>2013.500000</td>\n",
              "      <td>13.3</td>\n",
              "      <td>561.98450</td>\n",
              "      <td>5</td>\n",
              "      <td>24.98746</td>\n",
              "      <td>121.54391</td>\n",
              "      <td>2</td>\n",
              "      <td>875</td>\n",
              "      <td>54.8</td>\n",
              "    </tr>\n",
              "    <tr>\n",
              "      <th>4</th>\n",
              "      <td>2012.833333</td>\n",
              "      <td>5.0</td>\n",
              "      <td>390.56840</td>\n",
              "      <td>5</td>\n",
              "      <td>24.97937</td>\n",
              "      <td>121.54245</td>\n",
              "      <td>1</td>\n",
              "      <td>491</td>\n",
              "      <td>43.1</td>\n",
              "    </tr>\n",
              "  </tbody>\n",
              "</table>\n",
              "</div>\n",
              "      <button class=\"colab-df-convert\" onclick=\"convertToInteractive('df-b4f1867f-e09c-4927-80e3-0e3d5eb96f7b')\"\n",
              "              title=\"Convert this dataframe to an interactive table.\"\n",
              "              style=\"display:none;\">\n",
              "        \n",
              "  <svg xmlns=\"http://www.w3.org/2000/svg\" height=\"24px\"viewBox=\"0 0 24 24\"\n",
              "       width=\"24px\">\n",
              "    <path d=\"M0 0h24v24H0V0z\" fill=\"none\"/>\n",
              "    <path d=\"M18.56 5.44l.94 2.06.94-2.06 2.06-.94-2.06-.94-.94-2.06-.94 2.06-2.06.94zm-11 1L8.5 8.5l.94-2.06 2.06-.94-2.06-.94L8.5 2.5l-.94 2.06-2.06.94zm10 10l.94 2.06.94-2.06 2.06-.94-2.06-.94-.94-2.06-.94 2.06-2.06.94z\"/><path d=\"M17.41 7.96l-1.37-1.37c-.4-.4-.92-.59-1.43-.59-.52 0-1.04.2-1.43.59L10.3 9.45l-7.72 7.72c-.78.78-.78 2.05 0 2.83L4 21.41c.39.39.9.59 1.41.59.51 0 1.02-.2 1.41-.59l7.78-7.78 2.81-2.81c.8-.78.8-2.07 0-2.86zM5.41 20L4 18.59l7.72-7.72 1.47 1.35L5.41 20z\"/>\n",
              "  </svg>\n",
              "      </button>\n",
              "      \n",
              "  <style>\n",
              "    .colab-df-container {\n",
              "      display:flex;\n",
              "      flex-wrap:wrap;\n",
              "      gap: 12px;\n",
              "    }\n",
              "\n",
              "    .colab-df-convert {\n",
              "      background-color: #E8F0FE;\n",
              "      border: none;\n",
              "      border-radius: 50%;\n",
              "      cursor: pointer;\n",
              "      display: none;\n",
              "      fill: #1967D2;\n",
              "      height: 32px;\n",
              "      padding: 0 0 0 0;\n",
              "      width: 32px;\n",
              "    }\n",
              "\n",
              "    .colab-df-convert:hover {\n",
              "      background-color: #E2EBFA;\n",
              "      box-shadow: 0px 1px 2px rgba(60, 64, 67, 0.3), 0px 1px 3px 1px rgba(60, 64, 67, 0.15);\n",
              "      fill: #174EA6;\n",
              "    }\n",
              "\n",
              "    [theme=dark] .colab-df-convert {\n",
              "      background-color: #3B4455;\n",
              "      fill: #D2E3FC;\n",
              "    }\n",
              "\n",
              "    [theme=dark] .colab-df-convert:hover {\n",
              "      background-color: #434B5C;\n",
              "      box-shadow: 0px 1px 3px 1px rgba(0, 0, 0, 0.15);\n",
              "      filter: drop-shadow(0px 1px 2px rgba(0, 0, 0, 0.3));\n",
              "      fill: #FFFFFF;\n",
              "    }\n",
              "  </style>\n",
              "\n",
              "      <script>\n",
              "        const buttonEl =\n",
              "          document.querySelector('#df-b4f1867f-e09c-4927-80e3-0e3d5eb96f7b button.colab-df-convert');\n",
              "        buttonEl.style.display =\n",
              "          google.colab.kernel.accessAllowed ? 'block' : 'none';\n",
              "\n",
              "        async function convertToInteractive(key) {\n",
              "          const element = document.querySelector('#df-b4f1867f-e09c-4927-80e3-0e3d5eb96f7b');\n",
              "          const dataTable =\n",
              "            await google.colab.kernel.invokeFunction('convertToInteractive',\n",
              "                                                     [key], {});\n",
              "          if (!dataTable) return;\n",
              "\n",
              "          const docLinkHtml = 'Like what you see? Visit the ' +\n",
              "            '<a target=\"_blank\" href=https://colab.research.google.com/notebooks/data_table.ipynb>data table notebook</a>'\n",
              "            + ' to learn more about interactive tables.';\n",
              "          element.innerHTML = '';\n",
              "          dataTable['output_type'] = 'display_data';\n",
              "          await google.colab.output.renderOutput(dataTable, element);\n",
              "          const docLink = document.createElement('div');\n",
              "          docLink.innerHTML = docLinkHtml;\n",
              "          element.appendChild(docLink);\n",
              "        }\n",
              "      </script>\n",
              "    </div>\n",
              "  </div>\n",
              "  "
            ]
          },
          "metadata": {},
          "execution_count": 3
        }
      ]
    },
    {
      "cell_type": "markdown",
      "source": [
        "LOAD DATASET\n"
      ],
      "metadata": {
        "id": "FPIoHaQuyMHI"
      }
    },
    {
      "cell_type": "code",
      "source": [
        "dataset.info()"
      ],
      "metadata": {
        "colab": {
          "base_uri": "https://localhost:8080/"
        },
        "id": "r44JH7uTLqkr",
        "outputId": "a4072cb2-2f29-4e4e-d797-36c360495b92"
      },
      "execution_count": null,
      "outputs": [
        {
          "output_type": "stream",
          "name": "stdout",
          "text": [
            "<class 'pandas.core.frame.DataFrame'>\n",
            "RangeIndex: 414 entries, 0 to 413\n",
            "Data columns (total 9 columns):\n",
            " #   Column                                    Non-Null Count  Dtype  \n",
            "---  ------                                    --------------  -----  \n",
            " 0   Transaction date                          414 non-null    float64\n",
            " 1   House Age                                 414 non-null    float64\n",
            " 2   Distance from nearest Metro station (km)  414 non-null    float64\n",
            " 3   Number of convenience stores              414 non-null    int64  \n",
            " 4   latitude                                  414 non-null    float64\n",
            " 5   longitude                                 414 non-null    float64\n",
            " 6   Number of bedrooms                        414 non-null    int64  \n",
            " 7   House size (sqft)                         414 non-null    int64  \n",
            " 8   House price of unit area                  414 non-null    float64\n",
            "dtypes: float64(6), int64(3)\n",
            "memory usage: 29.2 KB\n"
          ]
        }
      ]
    },
    {
      "cell_type": "code",
      "source": [
        "dataset.describe()"
      ],
      "metadata": {
        "colab": {
          "base_uri": "https://localhost:8080/",
          "height": 379
        },
        "id": "ongQ0EpsL30f",
        "outputId": "1a3e32b7-aa1e-4d00-d01b-16b7d3c811b7"
      },
      "execution_count": null,
      "outputs": [
        {
          "output_type": "execute_result",
          "data": {
            "text/plain": [
              "       Transaction date   House Age  Distance from nearest Metro station (km)  \\\n",
              "count        414.000000  414.000000                                414.000000   \n",
              "mean        2013.148953   17.712560                               1083.885689   \n",
              "std            0.281995   11.392485                               1262.109595   \n",
              "min         2012.666667    0.000000                                 23.382840   \n",
              "25%         2012.916667    9.025000                                289.324800   \n",
              "50%         2013.166667   16.100000                                492.231300   \n",
              "75%         2013.416667   28.150000                               1454.279000   \n",
              "max         2013.583333   43.800000                               6488.021000   \n",
              "\n",
              "       Number of convenience stores    latitude   longitude  \\\n",
              "count                    414.000000  414.000000  414.000000   \n",
              "mean                       4.094203   24.969030  121.533361   \n",
              "std                        2.945562    0.012410    0.015347   \n",
              "min                        0.000000   24.932070  121.473530   \n",
              "25%                        1.000000   24.963000  121.528085   \n",
              "50%                        4.000000   24.971100  121.538630   \n",
              "75%                        6.000000   24.977455  121.543305   \n",
              "max                       10.000000   25.014590  121.566270   \n",
              "\n",
              "       Number of bedrooms  House size (sqft)  House price of unit area  \n",
              "count          414.000000         414.000000                414.000000  \n",
              "mean             1.987923         931.475845                 37.980193  \n",
              "std              0.818875         348.910269                 13.606488  \n",
              "min              1.000000         402.000000                  7.600000  \n",
              "25%              1.000000         548.000000                 27.700000  \n",
              "50%              2.000000         975.000000                 38.450000  \n",
              "75%              3.000000        1234.750000                 46.600000  \n",
              "max              3.000000        1500.000000                117.500000  "
            ],
            "text/html": [
              "\n",
              "  <div id=\"df-31c3e34f-382e-48fa-9dab-fe38f3b6bdb1\">\n",
              "    <div class=\"colab-df-container\">\n",
              "      <div>\n",
              "<style scoped>\n",
              "    .dataframe tbody tr th:only-of-type {\n",
              "        vertical-align: middle;\n",
              "    }\n",
              "\n",
              "    .dataframe tbody tr th {\n",
              "        vertical-align: top;\n",
              "    }\n",
              "\n",
              "    .dataframe thead th {\n",
              "        text-align: right;\n",
              "    }\n",
              "</style>\n",
              "<table border=\"1\" class=\"dataframe\">\n",
              "  <thead>\n",
              "    <tr style=\"text-align: right;\">\n",
              "      <th></th>\n",
              "      <th>Transaction date</th>\n",
              "      <th>House Age</th>\n",
              "      <th>Distance from nearest Metro station (km)</th>\n",
              "      <th>Number of convenience stores</th>\n",
              "      <th>latitude</th>\n",
              "      <th>longitude</th>\n",
              "      <th>Number of bedrooms</th>\n",
              "      <th>House size (sqft)</th>\n",
              "      <th>House price of unit area</th>\n",
              "    </tr>\n",
              "  </thead>\n",
              "  <tbody>\n",
              "    <tr>\n",
              "      <th>count</th>\n",
              "      <td>414.000000</td>\n",
              "      <td>414.000000</td>\n",
              "      <td>414.000000</td>\n",
              "      <td>414.000000</td>\n",
              "      <td>414.000000</td>\n",
              "      <td>414.000000</td>\n",
              "      <td>414.000000</td>\n",
              "      <td>414.000000</td>\n",
              "      <td>414.000000</td>\n",
              "    </tr>\n",
              "    <tr>\n",
              "      <th>mean</th>\n",
              "      <td>2013.148953</td>\n",
              "      <td>17.712560</td>\n",
              "      <td>1083.885689</td>\n",
              "      <td>4.094203</td>\n",
              "      <td>24.969030</td>\n",
              "      <td>121.533361</td>\n",
              "      <td>1.987923</td>\n",
              "      <td>931.475845</td>\n",
              "      <td>37.980193</td>\n",
              "    </tr>\n",
              "    <tr>\n",
              "      <th>std</th>\n",
              "      <td>0.281995</td>\n",
              "      <td>11.392485</td>\n",
              "      <td>1262.109595</td>\n",
              "      <td>2.945562</td>\n",
              "      <td>0.012410</td>\n",
              "      <td>0.015347</td>\n",
              "      <td>0.818875</td>\n",
              "      <td>348.910269</td>\n",
              "      <td>13.606488</td>\n",
              "    </tr>\n",
              "    <tr>\n",
              "      <th>min</th>\n",
              "      <td>2012.666667</td>\n",
              "      <td>0.000000</td>\n",
              "      <td>23.382840</td>\n",
              "      <td>0.000000</td>\n",
              "      <td>24.932070</td>\n",
              "      <td>121.473530</td>\n",
              "      <td>1.000000</td>\n",
              "      <td>402.000000</td>\n",
              "      <td>7.600000</td>\n",
              "    </tr>\n",
              "    <tr>\n",
              "      <th>25%</th>\n",
              "      <td>2012.916667</td>\n",
              "      <td>9.025000</td>\n",
              "      <td>289.324800</td>\n",
              "      <td>1.000000</td>\n",
              "      <td>24.963000</td>\n",
              "      <td>121.528085</td>\n",
              "      <td>1.000000</td>\n",
              "      <td>548.000000</td>\n",
              "      <td>27.700000</td>\n",
              "    </tr>\n",
              "    <tr>\n",
              "      <th>50%</th>\n",
              "      <td>2013.166667</td>\n",
              "      <td>16.100000</td>\n",
              "      <td>492.231300</td>\n",
              "      <td>4.000000</td>\n",
              "      <td>24.971100</td>\n",
              "      <td>121.538630</td>\n",
              "      <td>2.000000</td>\n",
              "      <td>975.000000</td>\n",
              "      <td>38.450000</td>\n",
              "    </tr>\n",
              "    <tr>\n",
              "      <th>75%</th>\n",
              "      <td>2013.416667</td>\n",
              "      <td>28.150000</td>\n",
              "      <td>1454.279000</td>\n",
              "      <td>6.000000</td>\n",
              "      <td>24.977455</td>\n",
              "      <td>121.543305</td>\n",
              "      <td>3.000000</td>\n",
              "      <td>1234.750000</td>\n",
              "      <td>46.600000</td>\n",
              "    </tr>\n",
              "    <tr>\n",
              "      <th>max</th>\n",
              "      <td>2013.583333</td>\n",
              "      <td>43.800000</td>\n",
              "      <td>6488.021000</td>\n",
              "      <td>10.000000</td>\n",
              "      <td>25.014590</td>\n",
              "      <td>121.566270</td>\n",
              "      <td>3.000000</td>\n",
              "      <td>1500.000000</td>\n",
              "      <td>117.500000</td>\n",
              "    </tr>\n",
              "  </tbody>\n",
              "</table>\n",
              "</div>\n",
              "      <button class=\"colab-df-convert\" onclick=\"convertToInteractive('df-31c3e34f-382e-48fa-9dab-fe38f3b6bdb1')\"\n",
              "              title=\"Convert this dataframe to an interactive table.\"\n",
              "              style=\"display:none;\">\n",
              "        \n",
              "  <svg xmlns=\"http://www.w3.org/2000/svg\" height=\"24px\"viewBox=\"0 0 24 24\"\n",
              "       width=\"24px\">\n",
              "    <path d=\"M0 0h24v24H0V0z\" fill=\"none\"/>\n",
              "    <path d=\"M18.56 5.44l.94 2.06.94-2.06 2.06-.94-2.06-.94-.94-2.06-.94 2.06-2.06.94zm-11 1L8.5 8.5l.94-2.06 2.06-.94-2.06-.94L8.5 2.5l-.94 2.06-2.06.94zm10 10l.94 2.06.94-2.06 2.06-.94-2.06-.94-.94-2.06-.94 2.06-2.06.94z\"/><path d=\"M17.41 7.96l-1.37-1.37c-.4-.4-.92-.59-1.43-.59-.52 0-1.04.2-1.43.59L10.3 9.45l-7.72 7.72c-.78.78-.78 2.05 0 2.83L4 21.41c.39.39.9.59 1.41.59.51 0 1.02-.2 1.41-.59l7.78-7.78 2.81-2.81c.8-.78.8-2.07 0-2.86zM5.41 20L4 18.59l7.72-7.72 1.47 1.35L5.41 20z\"/>\n",
              "  </svg>\n",
              "      </button>\n",
              "      \n",
              "  <style>\n",
              "    .colab-df-container {\n",
              "      display:flex;\n",
              "      flex-wrap:wrap;\n",
              "      gap: 12px;\n",
              "    }\n",
              "\n",
              "    .colab-df-convert {\n",
              "      background-color: #E8F0FE;\n",
              "      border: none;\n",
              "      border-radius: 50%;\n",
              "      cursor: pointer;\n",
              "      display: none;\n",
              "      fill: #1967D2;\n",
              "      height: 32px;\n",
              "      padding: 0 0 0 0;\n",
              "      width: 32px;\n",
              "    }\n",
              "\n",
              "    .colab-df-convert:hover {\n",
              "      background-color: #E2EBFA;\n",
              "      box-shadow: 0px 1px 2px rgba(60, 64, 67, 0.3), 0px 1px 3px 1px rgba(60, 64, 67, 0.15);\n",
              "      fill: #174EA6;\n",
              "    }\n",
              "\n",
              "    [theme=dark] .colab-df-convert {\n",
              "      background-color: #3B4455;\n",
              "      fill: #D2E3FC;\n",
              "    }\n",
              "\n",
              "    [theme=dark] .colab-df-convert:hover {\n",
              "      background-color: #434B5C;\n",
              "      box-shadow: 0px 1px 3px 1px rgba(0, 0, 0, 0.15);\n",
              "      filter: drop-shadow(0px 1px 2px rgba(0, 0, 0, 0.3));\n",
              "      fill: #FFFFFF;\n",
              "    }\n",
              "  </style>\n",
              "\n",
              "      <script>\n",
              "        const buttonEl =\n",
              "          document.querySelector('#df-31c3e34f-382e-48fa-9dab-fe38f3b6bdb1 button.colab-df-convert');\n",
              "        buttonEl.style.display =\n",
              "          google.colab.kernel.accessAllowed ? 'block' : 'none';\n",
              "\n",
              "        async function convertToInteractive(key) {\n",
              "          const element = document.querySelector('#df-31c3e34f-382e-48fa-9dab-fe38f3b6bdb1');\n",
              "          const dataTable =\n",
              "            await google.colab.kernel.invokeFunction('convertToInteractive',\n",
              "                                                     [key], {});\n",
              "          if (!dataTable) return;\n",
              "\n",
              "          const docLinkHtml = 'Like what you see? Visit the ' +\n",
              "            '<a target=\"_blank\" href=https://colab.research.google.com/notebooks/data_table.ipynb>data table notebook</a>'\n",
              "            + ' to learn more about interactive tables.';\n",
              "          element.innerHTML = '';\n",
              "          dataTable['output_type'] = 'display_data';\n",
              "          await google.colab.output.renderOutput(dataTable, element);\n",
              "          const docLink = document.createElement('div');\n",
              "          docLink.innerHTML = docLinkHtml;\n",
              "          element.appendChild(docLink);\n",
              "        }\n",
              "      </script>\n",
              "    </div>\n",
              "  </div>\n",
              "  "
            ]
          },
          "metadata": {},
          "execution_count": 7
        }
      ]
    },
    {
      "cell_type": "code",
      "source": [
        "dataset.columns"
      ],
      "metadata": {
        "colab": {
          "base_uri": "https://localhost:8080/"
        },
        "id": "EkWTTZnzMVAV",
        "outputId": "f63c3721-6024-40c3-c1d2-70ad6bf8357b"
      },
      "execution_count": null,
      "outputs": [
        {
          "output_type": "execute_result",
          "data": {
            "text/plain": [
              "Index(['Transaction date', 'House Age',\n",
              "       'Distance from nearest Metro station (km)',\n",
              "       'Number of convenience stores', 'latitude', 'longitude',\n",
              "       'Number of bedrooms', 'House size (sqft)', 'House price of unit area'],\n",
              "      dtype='object')"
            ]
          },
          "metadata": {},
          "execution_count": 8
        }
      ]
    },
    {
      "cell_type": "markdown",
      "source": [
        "EXPLORATORY DATA ANALYSIS\n"
      ],
      "metadata": {
        "id": "vOWWwJ25M39F"
      }
    },
    {
      "cell_type": "code",
      "source": [
        "sns.set(rc = {'figure.figsize':(6,4)})\n",
        "sns.heatmap(dataset.corr(), annot = True, fmt='.2g',cmap= 'coolwarm')\n"
      ],
      "metadata": {
        "colab": {
          "base_uri": "https://localhost:8080/",
          "height": 508
        },
        "id": "moJACAduM7kq",
        "outputId": "51979ec8-0e3c-4e8a-b289-2cdfb37310ec"
      },
      "execution_count": null,
      "outputs": [
        {
          "output_type": "execute_result",
          "data": {
            "text/plain": [
              "<matplotlib.axes._subplots.AxesSubplot at 0x7fb7adb45fa0>"
            ]
          },
          "metadata": {},
          "execution_count": 12
        },
        {
          "output_type": "display_data",
          "data": {
            "text/plain": [
              "<Figure size 432x288 with 2 Axes>"
            ],
            "image/png": "[encoded data removed]"
          },
          "metadata": {}
        }
      ]
    },
    {
      "cell_type": "code",
      "source": [
        "sns.distplot(dataset['House price of unit area'])"
      ],
      "metadata": {
        "colab": {
          "base_uri": "https://localhost:8080/",
          "height": 302
        },
        "id": "mr159XeENJMf",
        "outputId": "3b9c45bb-9ad9-49a4-ef47-c4039dffac4c"
      },
      "execution_count": null,
      "outputs": [
        {
          "output_type": "execute_result",
          "data": {
            "text/plain": [
              "<matplotlib.axes._subplots.AxesSubplot at 0x7fb7adcb7310>"
            ]
          },
          "metadata": {},
          "execution_count": 13
        },
        {
          "output_type": "display_data",
          "data": {
            "text/plain": [
              "<Figure size 432x288 with 1 Axes>"
            ],
            "image/png": "[encoded data removed]"
          },
          "metadata": {}
        }
      ]
    },
    {
      "cell_type": "code",
      "source": [
        "\n",
        "var = 'Number of convenience stores'\n",
        "data = pd.concat([dataset['House price of unit area'], dataset[var]], axis=1)\n",
        "data.plot.scatter(x=var, y='House price of unit area', ylim=(0,80))"
      ],
      "metadata": {
        "colab": {
          "base_uri": "https://localhost:8080/",
          "height": 344
        },
        "id": "bBgoeTHENgvw",
        "outputId": "00f8d013-8058-4cb2-b3fb-f79965a90861"
      },
      "execution_count": null,
      "outputs": [
        {
          "output_type": "stream",
          "name": "stderr",
          "text": [
            "WARNING:matplotlib.axes._axes:*c* argument looks like a single numeric RGB or RGBA sequence, which should be avoided as value-mapping will have precedence in case its length matches with *x* & *y*.  Please use the *color* keyword-argument or provide a 2-D array with a single row if you intend to specify the same RGB or RGBA value for all points.\n"
          ]
        },
        {
          "output_type": "execute_result",
          "data": {
            "text/plain": [
              "<matplotlib.axes._subplots.AxesSubplot at 0x7fb7ab996580>"
            ]
          },
          "metadata": {},
          "execution_count": 14
        },
        {
          "output_type": "display_data",
          "data": {
            "text/plain": [
              "<Figure size 432x288 with 1 Axes>"
            ],
            "image/png": "[encoded data removed]"
          },
          "metadata": {}
        }
      ]
    },
    {
      "cell_type": "code",
      "source": [
        "var = 'Number of bedrooms'\n",
        "data = pd.concat([df['House price of unit area'], df[var]], axis=1)\n",
        "data.plot.scatter(x=var, y='House price of unit area', ylim=(0,80))"
      ],
      "metadata": {
        "colab": {
          "base_uri": "https://localhost:8080/",
          "height": 344
        },
        "id": "CO8UOhKJNstd",
        "outputId": "5f2b0939-4b6e-4d06-b8fc-956a45ab5539"
      },
      "execution_count": null,
      "outputs": [
        {
          "output_type": "stream",
          "name": "stderr",
          "text": [
            "WARNING:matplotlib.axes._axes:*c* argument looks like a single numeric RGB or RGBA sequence, which should be avoided as value-mapping will have precedence in case its length matches with *x* & *y*.  Please use the *color* keyword-argument or provide a 2-D array with a single row if you intend to specify the same RGB or RGBA value for all points.\n"
          ]
        },
        {
          "output_type": "execute_result",
          "data": {
            "text/plain": [
              "<matplotlib.axes._subplots.AxesSubplot at 0x7fb7ada7a730>"
            ]
          },
          "metadata": {},
          "execution_count": 15
        },
        {
          "output_type": "display_data",
          "data": {
            "text/plain": [
              "<Figure size 432x288 with 1 Axes>"
            ],
            "image/png": "[encoded data removed]"
          },
          "metadata": {}
        }
      ]
    },
    {
      "cell_type": "code",
      "source": [
        "dataset.drop(columns='Transaction date', inplace=True, axis=1)\n"
      ],
      "metadata": {
        "id": "GfmZMm0mOWb1"
      },
      "execution_count": null,
      "outputs": []
    },
    {
      "cell_type": "markdown",
      "source": [
        "PREDICTIVE MODELLING"
      ],
      "metadata": {
        "id": "7RFBus3Xf92p"
      }
    },
    {
      "cell_type": "code",
      "source": [
        "from sklearn.linear_model import LinearRegression, ridge_regression\n",
        "from sklearn.model_selection import train_test_split"
      ],
      "metadata": {
        "id": "uaxiG9foO516"
      },
      "execution_count": null,
      "outputs": []
    },
    {
      "cell_type": "code",
      "source": [
        "dataset.columns"
      ],
      "metadata": {
        "colab": {
          "base_uri": "https://localhost:8080/"
        },
        "id": "EyMcKSnbQUdd",
        "outputId": "22f290f2-54c0-4893-b7a5-3d203cb0dd38"
      },
      "execution_count": null,
      "outputs": [
        {
          "output_type": "execute_result",
          "data": {
            "text/plain": [
              "Index(['House Age', 'Distance from nearest Metro station (km)',\n",
              "       'Number of convenience stores', 'latitude', 'longitude',\n",
              "       'Number of bedrooms', 'House size (sqft)', 'House price of unit area'],\n",
              "      dtype='object')"
            ]
          },
          "metadata": {},
          "execution_count": 7
        }
      ]
    },
    {
      "cell_type": "code",
      "source": [
        "X = dataset.drop(['House price of unit area'], axis=1)\n",
        "y = dataset[['House price of unit area']]\n",
        "## Normalize\n",
        "from sklearn.preprocessing import Normalizer\n",
        "scale=Normalizer()\n",
        "NS=scale.fit_transform(X)\n",
        "## Split the data\n",
        "X_train, X_test, y_train, y_test = train_test_split(NS, y, test_size=0.2, random_state=3500)\n",
        "X.shape, y.shape"
      ],
      "metadata": {
        "colab": {
          "base_uri": "https://localhost:8080/"
        },
        "id": "961eK_LNQuJb",
        "outputId": "b3a02c75-d16e-456f-da89-f3f6319c4b2a"
      },
      "execution_count": null,
      "outputs": [
        {
          "output_type": "execute_result",
          "data": {
            "text/plain": [
              "((414, 7), (414, 1))"
            ]
          },
          "metadata": {},
          "execution_count": 8
        }
      ]
    },
    {
      "cell_type": "code",
      "source": [
        "lr = LinearRegression()\n",
        "lr.fit(X_train, y_train)\n",
        "y_pred = lr.predict(X_test)\n",
        "\n",
        "#calculate Accuracy score of regression model on training set\n",
        "train_accuracy = lr.score(X_train, y_train)\n",
        "print(train_accuracy)\n",
        "#calculate Accuracy score of regression model on testing set\n",
        "test_accuracy = lr.score(X_test, y_test)\n",
        "print(test_accuracy)\n",
        "\n",
        "from sklearn.metrics import r2_score \n",
        "r2 = r2_score(y_test, y_pred)"
      ],
      "metadata": {
        "colab": {
          "base_uri": "https://localhost:8080/"
        },
        "id": "_We_majig07z",
        "outputId": "4b175cd8-ce3b-4ff1-880b-5ae04ff87a4a"
      },
      "execution_count": null,
      "outputs": [
        {
          "output_type": "stream",
          "name": "stdout",
          "text": [
            "0.6175630443208597\n",
            "0.5909326335181871\n"
          ]
        }
      ]
    },
    {
      "cell_type": "code",
      "source": [
        "1 - (1-lr.score(X, y))*(len(y)-1)/(len(y)-X.shape[1]-1)"
      ],
      "metadata": {
        "colab": {
          "base_uri": "https://localhost:8080/"
        },
        "id": "oURiAc8eg-IG",
        "outputId": "72f9cd85-4139-45af-fbe7-64c3d3745d7f"
      },
      "execution_count": null,
      "outputs": [
        {
          "output_type": "execute_result",
          "data": {
            "text/plain": [
              "-4791200.430652"
            ]
          },
          "metadata": {},
          "execution_count": 10
        }
      ]
    },
    {
      "cell_type": "code",
      "source": [],
      "metadata": {
        "id": "8-1NVYSlhB8B"
      },
      "execution_count": null,
      "outputs": []
    },
    {
      "cell_type": "code",
      "source": [
        "from sklearn.metrics import mean_squared_error as MSE\n",
        "rmse = np.sqrt(MSE(y_test, y_pred))\n",
        "print('MSE: %.2f' % MSE(y_test, y_pred))\n",
        "print(\"RMSE : % f\" %(rmse))\n",
        "print('R2 value:',r2.round(2))"
      ],
      "metadata": {
        "colab": {
          "base_uri": "https://localhost:8080/"
        },
        "id": "cQiUb6R7hCJp",
        "outputId": "254325d7-cd04-4424-c194-e10fa13ce3da"
      },
      "execution_count": null,
      "outputs": [
        {
          "output_type": "stream",
          "name": "stdout",
          "text": [
            "MSE: 74.19\n",
            "RMSE :  8.613498\n",
            "R2 value: 0.59\n"
          ]
        }
      ]
    },
    {
      "cell_type": "code",
      "source": [
        "fig = plt.figure(figsize=(9, 4))\n",
        "plt.scatter(y_test,y_pred)\n",
        "fig.suptitle('y_test vs y_pred', fontsize=20) # Plot heading \n",
        "plt.xlabel('y_test', fontsize=15) # X-label\n",
        "plt.ylabel('y_pred', fontsize=15) # Y-label\n"
      ],
      "metadata": {
        "colab": {
          "base_uri": "https://localhost:8080/",
          "height": 331
        },
        "id": "yVFbIWnLhIhi",
        "outputId": "ad667291-1e28-47ea-dece-141bf1dd122d"
      },
      "execution_count": null,
      "outputs": [
        {
          "output_type": "execute_result",
          "data": {
            "text/plain": [
              "Text(0, 0.5, 'y_pred')"
            ]
          },
          "metadata": {},
          "execution_count": 12
        },
        {
          "output_type": "display_data",
          "data": {
            "text/plain": [
              "<Figure size 648x288 with 1 Axes>"
            ],
            "image/png": "[encoded data removed]"
          },
          "metadata": {
            "needs_background": "light"
          }
        }
      ]
    },
    {
      "cell_type": "code",
      "source": [
        "# by XG BOOST\n",
        "import xgboost\n",
        "from xgboost import XGBRegressor\n",
        "xgb_r = XGBRegressor(objective ='reg:linear',\n",
        "                  n_estimators = 10, seed = 123)\n",
        "\n",
        "X_train, X_test, y_train, y_test = train_test_split(X, y, test_size=0.2, random_state=30000)"
      ],
      "metadata": {
        "id": "bn5lDZ6nhoeC"
      },
      "execution_count": null,
      "outputs": []
    },
    {
      "cell_type": "code",
      "source": [
        "\n",
        "xgb_r.fit(X_train, y_train)\n",
        "# Predict the model\n",
        "prediction = xgb_r.predict(X_test)"
      ],
      "metadata": {
        "colab": {
          "base_uri": "https://localhost:8080/"
        },
        "id": "fX96z0hehx3J",
        "outputId": "3f8d48e3-de8e-4a2a-bad5-99d90682360e"
      },
      "execution_count": null,
      "outputs": [
        {
          "output_type": "stream",
          "name": "stdout",
          "text": [
            "[12:45:46] WARNING: /workspace/src/objective/regression_obj.cu:152: reg:linear is now deprecated in favor of reg:squarederror.\n"
          ]
        }
      ]
    },
    {
      "cell_type": "code",
      "source": [
        "#calculate Accuracy score of regression model on training set\n",
        "train_score = xgb_r.score(X_train, y_train)\n",
        "print(train_score)\n",
        "#calculate Accuracy score of regression model on testing set\n",
        "test_score = xgb_r.score(X_test, y_test)\n",
        "print(test_score)"
      ],
      "metadata": {
        "colab": {
          "base_uri": "https://localhost:8080/"
        },
        "id": "Bo467hmih1zV",
        "outputId": "cebb7b49-728b-4a62-b2cb-e6ef06ddb540"
      },
      "execution_count": null,
      "outputs": [
        {
          "output_type": "stream",
          "name": "stdout",
          "text": [
            "-0.4579604994710358\n",
            "-0.15266914151570532\n"
          ]
        }
      ]
    },
    {
      "cell_type": "code",
      "source": [
        "from sklearn.metrics import r2_score \n",
        "xgr2 = r2_score(y_test, prediction)"
      ],
      "metadata": {
        "id": "F0ulBz0mh3kG"
      },
      "execution_count": null,
      "outputs": []
    },
    {
      "cell_type": "code",
      "source": [
        "# RMSE Computation\n",
        "from sklearn.metrics import mean_squared_error as MSE\n",
        "rmse = np.sqrt(MSE(y_test, prediction))\n",
        "print('MSE: %.2f' % MSE(y_test, prediction))\n",
        "print(\"RMSE : % f\" %(rmse))\n",
        "print('R2 value:',xgr2.round(2))"
      ],
      "metadata": {
        "colab": {
          "base_uri": "https://localhost:8080/"
        },
        "id": "EpGe0ctHh7lu",
        "outputId": "4ddd1bc2-0f80-4068-aa85-e349f6866c3e"
      },
      "execution_count": null,
      "outputs": [
        {
          "output_type": "stream",
          "name": "stdout",
          "text": [
            "MSE: 309.74\n",
            "RMSE :  17.599474\n",
            "R2 value: -0.15\n"
          ]
        }
      ]
    },
    {
      "cell_type": "code",
      "source": [
        "# Plotting y_test and y_pred to understand the spread.\n",
        "fig = plt.figure(figsize=(9, 4))\n",
        "plt.scatter(y_test, prediction)\n",
        "fig.suptitle('y_test vs y_pred', fontsize=20) # Plot heading \n",
        "plt.xlabel('y_test', fontsize=15) # X-label\n",
        "plt.ylabel('y_pred', fontsize=15) # Y-label"
      ],
      "metadata": {
        "colab": {
          "base_uri": "https://localhost:8080/",
          "height": 331
        },
        "id": "RB32g6qxiAeH",
        "outputId": "01d0a1b0-5007-49b2-cb54-39af4c39dd61"
      },
      "execution_count": null,
      "outputs": [
        {
          "output_type": "execute_result",
          "data": {
            "text/plain": [
              "Text(0, 0.5, 'y_pred')"
            ]
          },
          "metadata": {},
          "execution_count": 18
        },
        {
          "output_type": "display_data",
          "data": {
            "text/plain": [
              "<Figure size 648x288 with 1 Axes>"
            ],
            "image/png": "[encoded data removed]"
          },
          "metadata": {
            "needs_background": "light"
          }
        }
      ]
    },
    {
      "cell_type": "code",
      "source": [
        "from sklearn.linear_model import Lasso\n",
        "X_train, X_test, y_train, y_test = train_test_split(NS, y, test_size=0.2, random_state=3500)\n",
        "lasso = Lasso(alpha=0.0001)\n",
        "lasso.fit(X_train,y_train)\n",
        "prediction_lass = lasso.predict(X_test)\n",
        "trainl_score=lasso.score(X_train,y_train)\n",
        "print('Train dataset accuracy score',trainl_score.round(1))\n",
        "testl_score=lasso.score(X_test,y_test)\n",
        "print('Test dataset accuracy score',testl_score.round(1))\n"
      ],
      "metadata": {
        "colab": {
          "base_uri": "https://localhost:8080/"
        },
        "id": "uTRgDun8iG4J",
        "outputId": "789194a6-913f-4084-ed9e-b304c2818ab5"
      },
      "execution_count": null,
      "outputs": [
        {
          "output_type": "stream",
          "name": "stdout",
          "text": [
            "Train dataset accuracy score 0.6\n",
            "Test dataset accuracy score 0.5\n"
          ]
        }
      ]
    },
    {
      "cell_type": "code",
      "source": [
        "# RMSE Computation\n",
        "from sklearn.metrics import mean_squared_error as MSE\n",
        "rmse = np.sqrt(MSE(y_test, prediction_lass))\n",
        "print('MSE: %.2f' % MSE(y_test, prediction_lass))\n",
        "print(\"RMSE : % f\" %(rmse))\n",
        "lassor2 = r2_score(y_test, prediction_lass)\n",
        "print('R2 value:',lassor2.round(2))"
      ],
      "metadata": {
        "colab": {
          "base_uri": "https://localhost:8080/"
        },
        "id": "4YN8RV9YiOvP",
        "outputId": "4e9efb68-97dc-47ee-bf83-2682a37386b4"
      },
      "execution_count": null,
      "outputs": [
        {
          "output_type": "stream",
          "name": "stdout",
          "text": [
            "MSE: 82.09\n",
            "RMSE :  9.060118\n",
            "R2 value: 0.55\n"
          ]
        }
      ]
    },
    {
      "cell_type": "code",
      "source": [
        "#RIDGE\n",
        "from sklearn.linear_model import Ridge\n",
        "Ridgee = Ridge(alpha=0.03)\n",
        "Ridgee.fit(X_train,y_train)\n",
        "prediction_ridge = Ridgee.predict(X_test)\n",
        "\n",
        "rtrain_score=Ridgee.score(X_train,y_train)\n",
        "print('Train dataset accuracy score',rtrain_score.round(1))\n",
        "rtest_score=Ridgee.score(X_test,y_test)\n",
        "print('Test dataset accuracy score',rtest_score.round(1))"
      ],
      "metadata": {
        "colab": {
          "base_uri": "https://localhost:8080/"
        },
        "id": "ee5PP9BBiSE4",
        "outputId": "d8c46248-9e0d-48fa-ddd1-424acff202c6"
      },
      "execution_count": null,
      "outputs": [
        {
          "output_type": "stream",
          "name": "stdout",
          "text": [
            "Train dataset accuracy score 0.6\n",
            "Test dataset accuracy score 0.6\n"
          ]
        }
      ]
    },
    {
      "cell_type": "code",
      "source": [
        "# RMSE Computation\n",
        "from sklearn.metrics import mean_squared_error as MSE\n",
        "rmse = np.sqrt(MSE(y_test, prediction_ridge))\n",
        "print('MSE: %.2f' % MSE(y_test, prediction_ridge))\n",
        "print(\"RMSE : % f\" %(rmse))\n",
        "ridger2 = r2_score(y_test, prediction_ridge)\n",
        "print('R2 value:',ridger2.round(2))\n"
      ],
      "metadata": {
        "id": "uxdXCU85iXYL",
        "colab": {
          "base_uri": "https://localhost:8080/"
        },
        "outputId": "b93f13f2-9f5c-4ab7-c001-f8f156fbf2ef"
      },
      "execution_count": null,
      "outputs": [
        {
          "output_type": "stream",
          "name": "stdout",
          "text": [
            "MSE: 78.32\n",
            "RMSE :  8.849931\n",
            "R2 value: 0.57\n"
          ]
        }
      ]
    },
    {
      "cell_type": "code",
      "source": [],
      "metadata": {
        "id": "RTb5_LYAOpG-"
      },
      "execution_count": null,
      "outputs": []
    },
    {
      "cell_type": "markdown",
      "source": [
        "DECISION TREE REGRESSION"
      ],
      "metadata": {
        "id": "NMmXfNhhPI5h"
      }
    },
    {
      "cell_type": "code",
      "source": [
        "# import the regressor\n",
        "from sklearn.tree import DecisionTreeRegressor\n",
        "\n",
        "# create a regressor object\n",
        "regressor = DecisionTreeRegressor(random_state = 0)\n",
        "\n",
        "# fit the regressor with X and Y data\n",
        "X_train, X_test, y_train, y_test = train_test_split(X, y, test_size=0.2, random_state=300)\n",
        "regressor.fit(X_train, y_train)\n",
        "\n",
        "y_pred_ds = regressor.predict(X_test)\n"
      ],
      "metadata": {
        "id": "tRUB8_K0PME7"
      },
      "execution_count": null,
      "outputs": []
    },
    {
      "cell_type": "code",
      "source": [
        "dtrain_score=regressor.score(X_train,y_train)\n",
        "print('Train dataset accuracy score',dtrain_score.round(2))\n",
        "dtest_score=regressor.score(X_test,y_test)\n",
        "print('Test dataset accuracy score',dtest_score.round(2))\n",
        "\n"
      ],
      "metadata": {
        "colab": {
          "base_uri": "https://localhost:8080/"
        },
        "id": "x8Z5RsCePPkf",
        "outputId": "1e7790c6-f886-426d-91a0-f852a7177a62"
      },
      "execution_count": null,
      "outputs": [
        {
          "output_type": "stream",
          "name": "stdout",
          "text": [
            "Train dataset accuracy score 1.0\n",
            "Test dataset accuracy score 0.72\n"
          ]
        }
      ]
    },
    {
      "cell_type": "code",
      "source": [
        "# Metrics\n",
        "rmse = np.sqrt(MSE(y_test, y_pred_ds))\n",
        "print('MSE: %.2f' % MSE(y_test, y_pred_ds))\n",
        "print(\"RMSE : % f\" %(rmse))\n",
        "deciscionr2 = r2_score(y_test, y_pred_ds)\n",
        "print('R2 value:',deciscionr2.round(2))\n"
      ],
      "metadata": {
        "colab": {
          "base_uri": "https://localhost:8080/"
        },
        "id": "SsF51QvaPSIG",
        "outputId": "40c92319-3511-4370-eb0f-8d6e9e085922"
      },
      "execution_count": null,
      "outputs": [
        {
          "output_type": "stream",
          "name": "stdout",
          "text": [
            "MSE: 50.61\n",
            "RMSE :  7.113876\n",
            "R2 value: 0.72\n"
          ]
        }
      ]
    },
    {
      "cell_type": "code",
      "source": [],
      "metadata": {
        "id": "h0cQqWynPXdO"
      },
      "execution_count": null,
      "outputs": []
    },
    {
      "cell_type": "markdown",
      "source": [
        "RANDOM FOREST\n"
      ],
      "metadata": {
        "id": "geQjNqlkPZtx"
      }
    },
    {
      "cell_type": "code",
      "source": [
        "# Fitting Random Forest Regression to the dataset\n",
        "# import the regressor\n",
        "from sklearn.ensemble import RandomForestRegressor\n",
        "\n",
        "# create regressor object\n",
        "random = RandomForestRegressor(n_estimators = 100, random_state = 0)\n",
        "X_train, X_test, y_train, y_test = train_test_split(X, y, test_size=0.18, random_state=200000)\n",
        "# fit the regressor with x and y data\n",
        "random.fit(X_train, y_train)\n",
        "y_pred_rf = random.predict(X_test)\n",
        "\n",
        "\n",
        "     \n",
        "\n",
        "rtrain_score=random.score(X_train,y_train)\n",
        "print('Train dataset accuracy score',rtrain_score.round(2))\n",
        "rtest_score=random.score(X_test,y_test)\n",
        "print('Test dataset accuracy score',rtest_score.round(2))"
      ],
      "metadata": {
        "colab": {
          "base_uri": "https://localhost:8080/"
        },
        "id": "BpLVWSI7Pbk_",
        "outputId": "1bb61f9e-852d-4c7e-a9a1-0ce2e49d2220"
      },
      "execution_count": null,
      "outputs": [
        {
          "output_type": "stream",
          "name": "stdout",
          "text": [
            "Train dataset accuracy score 0.95\n",
            "Test dataset accuracy score 0.84\n"
          ]
        }
      ]
    },
    {
      "cell_type": "code",
      "source": [
        "# Metrics\n",
        "rmse = np.sqrt(MSE(y_test, y_pred_rf))\n",
        "print('MSE: %.2f' % MSE(y_test, y_pred_rf))\n",
        "print(\"RMSE : % f\" %(rmse))\n",
        "forest_r2 = r2_score(y_test, y_pred_rf)\n",
        "print('R2 value:', forest_r2.round(2))\n"
      ],
      "metadata": {
        "colab": {
          "base_uri": "https://localhost:8080/"
        },
        "id": "dfqTqTqFPgj2",
        "outputId": "0e74b8e6-57b6-4a3a-e0db-694fddd35f83"
      },
      "execution_count": null,
      "outputs": [
        {
          "output_type": "stream",
          "name": "stdout",
          "text": [
            "MSE: 30.67\n",
            "RMSE :  5.537938\n",
            "R2 value: 0.84\n"
          ]
        }
      ]
    },
    {
      "cell_type": "code",
      "source": [],
      "metadata": {
        "id": "EwUhmU2LPkiH"
      },
      "execution_count": null,
      "outputs": []
    },
    {
      "cell_type": "markdown",
      "source": [
        "Final predictions and Observations\n",
        "We build our House price prediction models with different Regression techniques\n",
        "With Linear Regression :--- We got MSE: 74.19\n",
        "\n",
        "                            >>   RMSE :  8.613498\n",
        "                            >> R2 value: 0.59   ### Our Linear Regression model will able to explain only 59% of data ###\n",
        "        >> Train accuracy : 0.61\n",
        "        >> Test data accuracy : 0.59\n",
        "        >> Draw Back:-- Less accuracy\n",
        "\n",
        "With Lasso Regression :---- We got MSE: 82.09\n",
        "\n",
        "                            >> RMSE :  9.060118\n",
        "                            >> R2 value: 0.55  ### Our Lasso Regression model will able to explain only 55% of data ###\n",
        "        >> Train dataset accuracy score 0.6\n",
        "        >> Test dataset accuracy score 0.5 \n",
        "        >> Draw Back:-- Less accuracy \n",
        "\n",
        "\n",
        "With Ridge Regression :---- We got MSE: 78.32\n",
        "\n",
        "                            >> RMSE :  8.849931\n",
        "                            >> R2 value: 0.57  ### Our Ridge Regression model will able to explain only 57% of data ###\n",
        "        >> Train dataset accuracy score 0.6\n",
        "        >> Test dataset accuracy score 0.6 \n",
        "        >> Draw Back:-- Less accuracy \n",
        "\n",
        "\n",
        "With Decision tree Regression :---- We got MSE: 50.61\n",
        "\n",
        "                            >> RMSE :  7.11\n",
        "                            >> R2 value: 0.72  ### Our Decision Regression model will able to explain only 72% of data ### and error rate also decreased\n",
        "        >> Train dataset accuracy score 1.0\n",
        "        >> Test dataset accuracy score 0.72  \n",
        "        >> Draw Back:-- Accuracy is 72% but model is over fitted \n",
        "\n",
        "\n",
        "With Random forest Regression :---- We got MSE: 30.67\n",
        "\n",
        "                            >> RMSE :  5.54\n",
        "                            >> R2 value: 0.84  ### Our Random forest Regression model will able to explain 84% of data ### and error rate also decreased\n",
        "        >> Train dataset accuracy score 0.95\n",
        "        >> Test dataset accuracy score 0.84  \n",
        "        >> Draw Back:-- We got better Accuracy is 84% but model is over fitted \n",
        "\n",
        "I preferred model with less error rate (in means of MSE & RMSE) and Better accuracy on test scores. In Random forest Our Error rate RMSE decreased from 8.61 to 5.4 at the same time our model is perfectly fit. It given better accuracy when compared to the other models. Our Mean squre error is very less in Random forest Regression model when compared to other models. So I finalized Parameters tuned Random forest Regressor is best suitable model for House price prediction.\n",
        "\n",
        "Best fit models according to Test data scores\n",
        "Random Forest_tuned :--- 0.85\n",
        "Decision tree :--- 0.72\n",
        "Ridge Regression :--- 0.60\n",
        "Linear Regression :--- 0.59\n",
        "Lasso Regression :--- 0.50\n",
        "\n",
        "I finalized Parameters tuned Random forest Regressor is best suitable model for House price prediction\n",
        "Predicted House prices for Test data\n",
        "\n"
      ],
      "metadata": {
        "id": "vd6guTBlRDCm"
      }
    },
    {
      "cell_type": "code",
      "source": [
        "randmf = RandomForestRegressor(n_estimators = 20, min_samples_split = 10, min_samples_leaf= 3, max_features = 'sqrt', max_depth= 20, bootstrap=False) \n",
        "randmf.fit( X_train, y_train) \n",
        "X_test.reset_index(drop=True, inplace=True)\n",
        "predictors = randmf.predict(X_test)\n",
        "predictors =pd.DataFrame(predictors)\n",
        "X_test['Predicted_House_Prices'] = predictors[0]"
      ],
      "metadata": {
        "id": "hxYtLWSpR8R8"
      },
      "execution_count": null,
      "outputs": []
    },
    {
      "cell_type": "code",
      "source": [
        "X_test.tail()"
      ],
      "metadata": {
        "colab": {
          "base_uri": "https://localhost:8080/",
          "height": 285
        },
        "id": "HXZSfUoKRzwK",
        "outputId": "1f64281e-f9c4-4a4f-b4f7-d4f196354853"
      },
      "execution_count": null,
      "outputs": [
        {
          "output_type": "execute_result",
          "data": {
            "text/plain": [
              "    House Age  Distance from nearest Metro station (km)  \\\n",
              "70        0.0                                  185.4296   \n",
              "71       13.3                                  492.2313   \n",
              "72       15.6                                 1756.4110   \n",
              "73       40.9                                  167.5989   \n",
              "74       12.9                                  187.4823   \n",
              "\n",
              "    Number of convenience stores  latitude  longitude  Number of bedrooms  \\\n",
              "70                             0  24.97110  121.53170                   3   \n",
              "71                             5  24.96515  121.53737                   1   \n",
              "72                             2  24.98320  121.51812                   2   \n",
              "73                             5  24.96630  121.54026                   2   \n",
              "74                             1  24.97388  121.52981                   1   \n",
              "\n",
              "    House size (sqft)  Predicted_House_Prices  \n",
              "70                818               48.215996  \n",
              "71                421               41.896167  \n",
              "72                924               27.809444  \n",
              "73                984               44.648421  \n",
              "74                480               35.533720  "
            ],
            "text/html": [
              "\n",
              "  <div id=\"df-b49eac92-479f-4f09-95e3-096243141c2f\">\n",
              "    <div class=\"colab-df-container\">\n",
              "      <div>\n",
              "<style scoped>\n",
              "    .dataframe tbody tr th:only-of-type {\n",
              "        vertical-align: middle;\n",
              "    }\n",
              "\n",
              "    .dataframe tbody tr th {\n",
              "        vertical-align: top;\n",
              "    }\n",
              "\n",
              "    .dataframe thead th {\n",
              "        text-align: right;\n",
              "    }\n",
              "</style>\n",
              "<table border=\"1\" class=\"dataframe\">\n",
              "  <thead>\n",
              "    <tr style=\"text-align: right;\">\n",
              "      <th></th>\n",
              "      <th>House Age</th>\n",
              "      <th>Distance from nearest Metro station (km)</th>\n",
              "      <th>Number of convenience stores</th>\n",
              "      <th>latitude</th>\n",
              "      <th>longitude</th>\n",
              "      <th>Number of bedrooms</th>\n",
              "      <th>House size (sqft)</th>\n",
              "      <th>Predicted_House_Prices</th>\n",
              "    </tr>\n",
              "  </thead>\n",
              "  <tbody>\n",
              "    <tr>\n",
              "      <th>70</th>\n",
              "      <td>0.0</td>\n",
              "      <td>185.4296</td>\n",
              "      <td>0</td>\n",
              "      <td>24.97110</td>\n",
              "      <td>121.53170</td>\n",
              "      <td>3</td>\n",
              "      <td>818</td>\n",
              "      <td>48.215996</td>\n",
              "    </tr>\n",
              "    <tr>\n",
              "      <th>71</th>\n",
              "      <td>13.3</td>\n",
              "      <td>492.2313</td>\n",
              "      <td>5</td>\n",
              "      <td>24.96515</td>\n",
              "      <td>121.53737</td>\n",
              "      <td>1</td>\n",
              "      <td>421</td>\n",
              "      <td>41.896167</td>\n",
              "    </tr>\n",
              "    <tr>\n",
              "      <th>72</th>\n",
              "      <td>15.6</td>\n",
              "      <td>1756.4110</td>\n",
              "      <td>2</td>\n",
              "      <td>24.98320</td>\n",
              "      <td>121.51812</td>\n",
              "      <td>2</td>\n",
              "      <td>924</td>\n",
              "      <td>27.809444</td>\n",
              "    </tr>\n",
              "    <tr>\n",
              "      <th>73</th>\n",
              "      <td>40.9</td>\n",
              "      <td>167.5989</td>\n",
              "      <td>5</td>\n",
              "      <td>24.96630</td>\n",
              "      <td>121.54026</td>\n",
              "      <td>2</td>\n",
              "      <td>984</td>\n",
              "      <td>44.648421</td>\n",
              "    </tr>\n",
              "    <tr>\n",
              "      <th>74</th>\n",
              "      <td>12.9</td>\n",
              "      <td>187.4823</td>\n",
              "      <td>1</td>\n",
              "      <td>24.97388</td>\n",
              "      <td>121.52981</td>\n",
              "      <td>1</td>\n",
              "      <td>480</td>\n",
              "      <td>35.533720</td>\n",
              "    </tr>\n",
              "  </tbody>\n",
              "</table>\n",
              "</div>\n",
              "      <button class=\"colab-df-convert\" onclick=\"convertToInteractive('df-b49eac92-479f-4f09-95e3-096243141c2f')\"\n",
              "              title=\"Convert this dataframe to an interactive table.\"\n",
              "              style=\"display:none;\">\n",
              "        \n",
              "  <svg xmlns=\"http://www.w3.org/2000/svg\" height=\"24px\"viewBox=\"0 0 24 24\"\n",
              "       width=\"24px\">\n",
              "    <path d=\"M0 0h24v24H0V0z\" fill=\"none\"/>\n",
              "    <path d=\"M18.56 5.44l.94 2.06.94-2.06 2.06-.94-2.06-.94-.94-2.06-.94 2.06-2.06.94zm-11 1L8.5 8.5l.94-2.06 2.06-.94-2.06-.94L8.5 2.5l-.94 2.06-2.06.94zm10 10l.94 2.06.94-2.06 2.06-.94-2.06-.94-.94-2.06-.94 2.06-2.06.94z\"/><path d=\"M17.41 7.96l-1.37-1.37c-.4-.4-.92-.59-1.43-.59-.52 0-1.04.2-1.43.59L10.3 9.45l-7.72 7.72c-.78.78-.78 2.05 0 2.83L4 21.41c.39.39.9.59 1.41.59.51 0 1.02-.2 1.41-.59l7.78-7.78 2.81-2.81c.8-.78.8-2.07 0-2.86zM5.41 20L4 18.59l7.72-7.72 1.47 1.35L5.41 20z\"/>\n",
              "  </svg>\n",
              "      </button>\n",
              "      \n",
              "  <style>\n",
              "    .colab-df-container {\n",
              "      display:flex;\n",
              "      flex-wrap:wrap;\n",
              "      gap: 12px;\n",
              "    }\n",
              "\n",
              "    .colab-df-convert {\n",
              "      background-color: #E8F0FE;\n",
              "      border: none;\n",
              "      border-radius: 50%;\n",
              "      cursor: pointer;\n",
              "      display: none;\n",
              "      fill: #1967D2;\n",
              "      height: 32px;\n",
              "      padding: 0 0 0 0;\n",
              "      width: 32px;\n",
              "    }\n",
              "\n",
              "    .colab-df-convert:hover {\n",
              "      background-color: #E2EBFA;\n",
              "      box-shadow: 0px 1px 2px rgba(60, 64, 67, 0.3), 0px 1px 3px 1px rgba(60, 64, 67, 0.15);\n",
              "      fill: #174EA6;\n",
              "    }\n",
              "\n",
              "    [theme=dark] .colab-df-convert {\n",
              "      background-color: #3B4455;\n",
              "      fill: #D2E3FC;\n",
              "    }\n",
              "\n",
              "    [theme=dark] .colab-df-convert:hover {\n",
              "      background-color: #434B5C;\n",
              "      box-shadow: 0px 1px 3px 1px rgba(0, 0, 0, 0.15);\n",
              "      filter: drop-shadow(0px 1px 2px rgba(0, 0, 0, 0.3));\n",
              "      fill: #FFFFFF;\n",
              "    }\n",
              "  </style>\n",
              "\n",
              "      <script>\n",
              "        const buttonEl =\n",
              "          document.querySelector('#df-b49eac92-479f-4f09-95e3-096243141c2f button.colab-df-convert');\n",
              "        buttonEl.style.display =\n",
              "          google.colab.kernel.accessAllowed ? 'block' : 'none';\n",
              "\n",
              "        async function convertToInteractive(key) {\n",
              "          const element = document.querySelector('#df-b49eac92-479f-4f09-95e3-096243141c2f');\n",
              "          const dataTable =\n",
              "            await google.colab.kernel.invokeFunction('convertToInteractive',\n",
              "                                                     [key], {});\n",
              "          if (!dataTable) return;\n",
              "\n",
              "          const docLinkHtml = 'Like what you see? Visit the ' +\n",
              "            '<a target=\"_blank\" href=https://colab.research.google.com/notebooks/data_table.ipynb>data table notebook</a>'\n",
              "            + ' to learn more about interactive tables.';\n",
              "          element.innerHTML = '';\n",
              "          dataTable['output_type'] = 'display_data';\n",
              "          await google.colab.output.renderOutput(dataTable, element);\n",
              "          const docLink = document.createElement('div');\n",
              "          docLink.innerHTML = docLinkHtml;\n",
              "          element.appendChild(docLink);\n",
              "        }\n",
              "      </script>\n",
              "    </div>\n",
              "  </div>\n",
              "  "
            ]
          },
          "metadata": {},
          "execution_count": 34
        }
      ]
    }
  ]
}